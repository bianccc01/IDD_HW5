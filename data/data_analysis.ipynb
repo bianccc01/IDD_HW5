{
 "cells": [
  {
   "cell_type": "code",
   "id": "initial_id",
   "metadata": {
    "collapsed": true,
    "ExecuteTime": {
     "end_time": "2025-02-02T15:59:13.319051Z",
     "start_time": "2025-02-02T15:59:12.653755Z"
    }
   },
   "source": [
    "import extractor\n",
    "\n",
    "dataframes = extractor.extract_data('../data/train')\n",
    "\n",
    "#remove all columns with unnamed like name\n",
    "for i in range(len(dataframes)):\n",
    "    dataframes[i] = dataframes[i].loc[:, ~dataframes[i].columns.str.contains('^Unnamed')]\n",
    "\n",
    "#print all dataframes . colummns.values and name of file\n",
    "\n",
    "for i in range(len(dataframes)):\n",
    "    print(i, dataframes[i].columns.values, '\\n')\n",
    "\n",
    "schema_mediato = [\n",
    "    'company_name',  # Nome della compagnia\n",
    "    'company_address',  # Indirizzo\n",
    "    'company_industry',  # Settore industriale\n",
    "    'company_country',  # Paese\n",
    "    'company_market_cap',  # Capitalizzazione di mercato\n",
    "    'company_revenue',  # Ricavi\n",
    "    'company_employees',  # Numero di dipendenti\n",
    "    'company_website',  # Sito web\n",
    "    'company_founded',  # Anno di fondazione\n",
    "    'company_capital',  # Capitale\n",
    "    'company_legal_form',  # Forma giuridica\n",
    "    'company_status',  # Stato dell'azienda\n",
    "    'company_registration_date',  # Data di registrazione\n",
    "    'company_type',  # Tipo di azienda\n",
    "    'company_nace_code',  # Codice NAC\n",
    "    'company_number',  # Numero di azienda\n",
    "    'company_headquarters',  # Sede centrale\n",
    "    'company_valuation',  # Valutazione dell'azienda\n",
    "    'company_partners',  # Partner aziendali\n",
    "    'company_representatives',  # Rappresentanti aziendali\n",
    "    'company_investors'  # Investitori\n",
    "]\n",
    "\n",
    "\n"
   ],
   "outputs": [
    {
     "name": "stdout",
     "output_type": "stream",
     "text": [
      "0 ['id' 'name' 'code' 'legal form' 'status' 'registration date' 'capital'\n",
      " 'address' 'area of activity' 'emtak code' 'nace code' 'partners'\n",
      " 'partner_participations' 'partner_contributions' 'representatives'\n",
      " 'representative_roles' 'representative_start_dates' 'deletion date'\n",
      " 'file_name'] \n",
      "\n",
      "1 ['id' 'name' 'address' 'nation' 'hhid' 'industry' 'sic_code' 'type'\n",
      " 'est_of_ownership' 'file_name'] \n",
      "\n",
      "2 ['company' 'facebook' 'twitter' 'instagram' 'pinterest' 'file_name'] \n",
      "\n",
      "3 ['name' 'company_number' 'registered_office_address' 'company_status'\n",
      " 'company_type' 'company_creation_date' 'nature_of_business' 'file_name'] \n",
      "\n",
      "4 ['name' 'headquarters' 'number_of_employees' 'address' 'industry'\n",
      " 'website' 'market_cap' 'telephone' 'revenue' 'file_name'] \n",
      "\n",
      "5 ['name' 'country' 'sales' 'profit' 'assets' 'market value' 'file_name'] \n",
      "\n",
      "6 ['name' 'website' 'locations' 'size' 'industry' 'founded' 'file_name'] \n",
      "\n",
      "7 ['name' 'valuation' 'datejoined' 'country' 'city' 'industry' 'investors'\n",
      " 'founded' 'stage' 'totalraised' 'file_name'] \n",
      "\n",
      "8 ['id' 'name' 'rank' 'market_cap' 'country' 'share_price' 'change_1_day'\n",
      " 'change_1_year' 'categories' 'file_name'] \n",
      "\n",
      "9 ['link' 'name' 'headquarters' 'employees' 'ceo' 'market_cap' 'file_name'] \n",
      "\n",
      "10 ['name' 'industry' 'sector' 'headquarters' 'founded' 'notes' 'file_name'] \n",
      "\n",
      "11 ['id' 'name' 'world_rank' 'annual_revenue_in_usd'\n",
      " 'annual_net_income_in_usd' 'annual_results_for_year_ending'\n",
      " 'total_assets_in_usd' 'total_liabilities_in_usd' 'total_equity_in_usd'\n",
      " 'headquarters_region_city' 'headquarters_country'\n",
      " 'headquarters_sub_region' 'headquarters_continent' 'company_business'\n",
      " 'number_of_employees' 'ceo' 'founders' 'company_website' 'file_name'] \n",
      "\n",
      "12 ['link' 'name' 'country' 'industry' 'revenue' 'employees' 'founded'\n",
      " 'file_name'] \n",
      "\n",
      "13 ['rank' 'brand name' 'category' 'main market' '2010 rank' 'file_name'] \n",
      "\n",
      "14 ['name' 'industry' 'headquarter' 'ownership' 'foundation year' 'file_name'] \n",
      "\n",
      "15 ['index' 'url' 'name' 'trade name' 'address name' 'postalcode' 'city'\n",
      " 'state' 'country' 'location type' 'file_name'] \n",
      "\n"
     ]
    }
   ],
   "execution_count": 1
  },
  {
<<<<<<< HEAD
   "metadata": {
    "ExecuteTime": {
     "end_time": "2025-02-03T12:19:59.114155Z",
     "start_time": "2025-02-03T12:19:59.032142Z"
=======
   "metadata": {},
   "cell_type": "code",
   "outputs": [],
   "execution_count": null,
   "source": "",
   "id": "cf340d50bd5a24e6"
  },
  {
   "metadata": {
    "ExecuteTime": {
     "end_time": "2025-02-02T16:36:22.520785Z",
     "start_time": "2025-02-02T16:36:22.416721Z"
>>>>>>> origin/master
    }
   },
   "cell_type": "code",
   "source": [
    "import os\n",
<<<<<<< HEAD
    "import pandas as pd\n",
    "import extractor\n",
=======
>>>>>>> origin/master
    "\n",
    "#extract all files in data/train\n",
    "dataframes = extractor.extract_data('../data/train')\n",
    "\n",
<<<<<<< HEAD
    "#print the number of rows of each dataframe\n",
    "for i in range(len(dataframes)):\n",
    "    print(i, dataframes[i].shape[0])\n",
=======
    "#remove rows with NaN values\n",
    "dataframes[0] = dataframes[0].dropna()\n",
    "\n",
    "null_rows = dataframes[0][dataframes[0].isnull().any(axis=1)]\n",
    "null_rows\n",
>>>>>>> origin/master
    "\n"
   ],
   "id": "93162f7e3af401b5",
   "outputs": [
    {
<<<<<<< HEAD
     "name": "stdout",
     "output_type": "stream",
     "text": [
      "Total dataframes processed successfully: 5\n",
      "0 7000\n",
      "1 5336\n",
      "2 1469\n",
      "3 1185\n",
      "4 667\n"
     ]
    }
   ],
   "execution_count": 9
=======
     "data": {
      "text/plain": [
       "Empty DataFrame\n",
       "Columns: [id, name, code, legal form, status, registration date, capital, address, area of activity, emtak code, nace code, partners, partner_participations, partner_contributions, representatives, representative_roles, representative_start_dates, deletion date, file_name]\n",
       "Index: []"
      ],
      "text/html": [
       "<div>\n",
       "<style scoped>\n",
       "    .dataframe tbody tr th:only-of-type {\n",
       "        vertical-align: middle;\n",
       "    }\n",
       "\n",
       "    .dataframe tbody tr th {\n",
       "        vertical-align: top;\n",
       "    }\n",
       "\n",
       "    .dataframe thead th {\n",
       "        text-align: right;\n",
       "    }\n",
       "</style>\n",
       "<table border=\"1\" class=\"dataframe\">\n",
       "  <thead>\n",
       "    <tr style=\"text-align: right;\">\n",
       "      <th></th>\n",
       "      <th>id</th>\n",
       "      <th>name</th>\n",
       "      <th>code</th>\n",
       "      <th>legal form</th>\n",
       "      <th>status</th>\n",
       "      <th>registration date</th>\n",
       "      <th>capital</th>\n",
       "      <th>address</th>\n",
       "      <th>area of activity</th>\n",
       "      <th>emtak code</th>\n",
       "      <th>nace code</th>\n",
       "      <th>partners</th>\n",
       "      <th>partner_participations</th>\n",
       "      <th>partner_contributions</th>\n",
       "      <th>representatives</th>\n",
       "      <th>representative_roles</th>\n",
       "      <th>representative_start_dates</th>\n",
       "      <th>deletion date</th>\n",
       "      <th>file_name</th>\n",
       "    </tr>\n",
       "  </thead>\n",
       "  <tbody>\n",
       "  </tbody>\n",
       "</table>\n",
       "</div>"
      ]
     },
     "execution_count": 20,
     "metadata": {},
     "output_type": "execute_result"
    }
   ],
   "execution_count": 20
>>>>>>> origin/master
  },
  {
   "metadata": {},
   "cell_type": "markdown",
   "source": "",
   "id": "3669025d227545c0"
  }
 ],
 "metadata": {
  "kernelspec": {
   "display_name": "Python 3",
   "language": "python",
   "name": "python3"
  },
  "language_info": {
   "codemirror_mode": {
    "name": "ipython",
    "version": 2
   },
   "file_extension": ".py",
   "mimetype": "text/x-python",
   "name": "python",
   "nbconvert_exporter": "python",
   "pygments_lexer": "ipython2",
   "version": "2.7.6"
  }
 },
 "nbformat": 4,
 "nbformat_minor": 5
}
